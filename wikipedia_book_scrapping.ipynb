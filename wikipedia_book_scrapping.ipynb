{
  "nbformat": 4,
  "nbformat_minor": 0,
  "metadata": {
    "colab": {
      "name": "wikipedia_book_scrapping.ipynb",
      "provenance": []
    },
    "kernelspec": {
      "name": "python3",
      "display_name": "Python 3"
    }
  },
  "cells": [
    {
      "cell_type": "code",
      "metadata": {
        "id": "LZFZj6zY5G8w",
        "colab_type": "code",
        "colab": {}
      },
      "source": [
        "import requests\n",
        "\n",
        "# Parsing HTML\n",
        "from bs4 import BeautifulSoup\n",
        "\n",
        "# File system management\n",
        "import os"
      ],
      "execution_count": 1,
      "outputs": []
    },
    {
      "cell_type": "code",
      "metadata": {
        "id": "-oka5r1q5LWG",
        "colab_type": "code",
        "colab": {
          "base_uri": "https://localhost:8080/",
          "height": 187
        },
        "outputId": "c409f22d-0a06-4fe4-de42-421f0264dddc"
      },
      "source": [
        "base_url = 'https://dumps.wikimedia.org/enwiki/'\n",
        "index = requests.get(base_url).text\n",
        "soup_index = BeautifulSoup(index, 'html.parser')\n",
        "\n",
        "# Find the links that are dates of dumps\n",
        "dumps = [a['href'] for a in soup_index.find_all('a') if \n",
        "         a.has_attr('href')]\n",
        "dumps"
      ],
      "execution_count": 2,
      "outputs": [
        {
          "output_type": "execute_result",
          "data": {
            "text/plain": [
              "['../',\n",
              " '20200501/',\n",
              " '20200520/',\n",
              " '20200601/',\n",
              " '20200620/',\n",
              " '20200701/',\n",
              " '20200720/',\n",
              " '20200801/',\n",
              " '20200820/',\n",
              " 'latest/']"
            ]
          },
          "metadata": {
            "tags": []
          },
          "execution_count": 2
        }
      ]
    },
    {
      "cell_type": "code",
      "metadata": {
        "id": "pG0kcG_Z5OUM",
        "colab_type": "code",
        "colab": {
          "base_uri": "https://localhost:8080/",
          "height": 35
        },
        "outputId": "e791e244-4d29-47ff-d086-fde26157f93f"
      },
      "source": [
        "dump_url = base_url + '20200801/' # will consider from 08/01 because it is done\n",
        "\n",
        "# Retrieve the html\n",
        "dump_html = requests.get(dump_url).text\n",
        "dump_html[:10]"
      ],
      "execution_count": 5,
      "outputs": [
        {
          "output_type": "execute_result",
          "data": {
            "application/vnd.google.colaboratory.intrinsic+json": {
              "type": "string"
            },
            "text/plain": [
              "'<!DOCTYPE '"
            ]
          },
          "metadata": {
            "tags": []
          },
          "execution_count": 5
        }
      ]
    },
    {
      "cell_type": "code",
      "metadata": {
        "id": "hF9QIUxq5bsB",
        "colab_type": "code",
        "colab": {
          "base_uri": "https://localhost:8080/",
          "height": 207
        },
        "outputId": "1a1f3907-b978-45f8-a115-322ba9bc7e15"
      },
      "source": [
        "# convert into soup \n",
        "soup_dump = BeautifulSoup(dump_html, 'html.parser')\n",
        "\n",
        "# Find li elements with the class file\n",
        "soup_dump.find_all('li', {'class': 'file'}, limit = 10)[:10]"
      ],
      "execution_count": 7,
      "outputs": [
        {
          "output_type": "execute_result",
          "data": {
            "text/plain": [
              "[<li class=\"file\"><a href=\"/enwiki/20200801/enwiki-20200801-pages-articles-multistream.xml.bz2\">enwiki-20200801-pages-articles-multistream.xml.bz2</a> 17.3 GB</li>,\n",
              " <li class=\"file\"><a href=\"/enwiki/20200801/enwiki-20200801-pages-articles-multistream-index.txt.bz2\">enwiki-20200801-pages-articles-multistream-index.txt.bz2</a> 214.1 MB</li>,\n",
              " <li class=\"file\"><a href=\"/enwiki/20200801/enwiki-20200801-pages-articles-multistream1.xml-p1p30303.bz2\">enwiki-20200801-pages-articles-multistream1.xml-p1p30303.bz2</a> 179.7 MB</li>,\n",
              " <li class=\"file\"><a href=\"/enwiki/20200801/enwiki-20200801-pages-articles-multistream-index1.txt-p1p30303.bz2\">enwiki-20200801-pages-articles-multistream-index1.txt-p1p30303.bz2</a> 163 KB</li>,\n",
              " <li class=\"file\"><a href=\"/enwiki/20200801/enwiki-20200801-pages-articles-multistream2.xml-p30304p88444.bz2\">enwiki-20200801-pages-articles-multistream2.xml-p30304p88444.bz2</a> 213.9 MB</li>,\n",
              " <li class=\"file\"><a href=\"/enwiki/20200801/enwiki-20200801-pages-articles-multistream-index2.txt-p30304p88444.bz2\">enwiki-20200801-pages-articles-multistream-index2.txt-p30304p88444.bz2</a> 321 KB</li>,\n",
              " <li class=\"file\"><a href=\"/enwiki/20200801/enwiki-20200801-pages-articles-multistream3.xml-p88445p200509.bz2\">enwiki-20200801-pages-articles-multistream3.xml-p88445p200509.bz2</a> 276.7 MB</li>,\n",
              " <li class=\"file\"><a href=\"/enwiki/20200801/enwiki-20200801-pages-articles-multistream-index3.txt-p88445p200509.bz2\">enwiki-20200801-pages-articles-multistream-index3.txt-p88445p200509.bz2</a> 649 KB</li>,\n",
              " <li class=\"file\"><a href=\"/enwiki/20200801/enwiki-20200801-pages-articles-multistream4.xml-p200510p352689.bz2\">enwiki-20200801-pages-articles-multistream4.xml-p200510p352689.bz2</a> 281.1 MB</li>,\n",
              " <li class=\"file\"><a href=\"/enwiki/20200801/enwiki-20200801-pages-articles-multistream-index4.txt-p200510p352689.bz2\">enwiki-20200801-pages-articles-multistream-index4.txt-p200510p352689.bz2</a> 771 KB</li>]"
            ]
          },
          "metadata": {
            "tags": []
          },
          "execution_count": 7
        }
      ]
    },
    {
      "cell_type": "code",
      "metadata": {
        "id": "_isWkEhJ6Qmh",
        "colab_type": "code",
        "colab": {
          "base_uri": "https://localhost:8080/",
          "height": 153
        },
        "outputId": "c4681683-84d3-4b98-98e6-39e06067f18e"
      },
      "source": [
        "# consider only the files containing pages-articles to get the recent version of articles\n",
        "files = []\n",
        "\n",
        "# Search through all files\n",
        "for file in soup_dump.find_all('li', {'class': 'file'}):\n",
        "    text = file.text\n",
        "    # Select the relevant files\n",
        "    if 'pages-articles' in text:\n",
        "        files.append((text.split()[0], text.split()[1:]))\n",
        "        \n",
        "files[:5]"
      ],
      "execution_count": 8,
      "outputs": [
        {
          "output_type": "execute_result",
          "data": {
            "text/plain": [
              "[('enwiki-20200801-pages-articles-multistream.xml.bz2', ['17.3', 'GB']),\n",
              " ('enwiki-20200801-pages-articles-multistream-index.txt.bz2', ['214.1', 'MB']),\n",
              " ('enwiki-20200801-pages-articles-multistream1.xml-p1p30303.bz2',\n",
              "  ['179.7', 'MB']),\n",
              " ('enwiki-20200801-pages-articles-multistream-index1.txt-p1p30303.bz2',\n",
              "  ['163', 'KB']),\n",
              " ('enwiki-20200801-pages-articles-multistream2.xml-p30304p88444.bz2',\n",
              "  ['213.9', 'MB'])]"
            ]
          },
          "metadata": {
            "tags": []
          },
          "execution_count": 8
        }
      ]
    },
    {
      "cell_type": "code",
      "metadata": {
        "id": "2nM09Dq96y6V",
        "colab_type": "code",
        "colab": {
          "base_uri": "https://localhost:8080/",
          "height": 34
        },
        "outputId": "f1abb02e-ae1a-4526-df99-4502c2a6b529"
      },
      "source": [
        "#download only files that have .xml extension\n",
        "files_to_download = [file[0] for file in files if '.xml-p' in file[0]]\n",
        "files_to_download[-5:]\n",
        "print(f'There are {len(files_to_download)} files to download.')"
      ],
      "execution_count": 10,
      "outputs": [
        {
          "output_type": "stream",
          "text": [
            "There are 118 files to download.\n"
          ],
          "name": "stdout"
        }
      ]
    },
    {
      "cell_type": "code",
      "metadata": {
        "id": "6842jMlV7K1Y",
        "colab_type": "code",
        "colab": {
          "base_uri": "https://localhost:8080/",
          "height": 102
        },
        "outputId": "317c21a2-8822-42a8-fbac-2c90f3a71e89"
      },
      "source": [
        "files_to_download[-5:]"
      ],
      "execution_count": 11,
      "outputs": [
        {
          "output_type": "execute_result",
          "data": {
            "text/plain": [
              "['enwiki-20200801-pages-articles27.xml-p57663462p59163461.bz2',\n",
              " 'enwiki-20200801-pages-articles27.xml-p59163462p60663461.bz2',\n",
              " 'enwiki-20200801-pages-articles27.xml-p60663462p62163461.bz2',\n",
              " 'enwiki-20200801-pages-articles27.xml-p62163462p63663461.bz2',\n",
              " 'enwiki-20200801-pages-articles27.xml-p63663462p64710505.bz2']"
            ]
          },
          "metadata": {
            "tags": []
          },
          "execution_count": 11
        }
      ]
    },
    {
      "cell_type": "code",
      "metadata": {
        "id": "V7bevJiE8JmE",
        "colab_type": "code",
        "colab": {}
      },
      "source": [
        ""
      ],
      "execution_count": null,
      "outputs": []
    }
  ]
}